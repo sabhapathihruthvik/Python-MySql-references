{
 "cells": [
  {
   "cell_type": "code",
   "execution_count": 1,
   "metadata": {},
   "outputs": [],
   "source": [
    "import faiss\n",
    "import numpy as np\n",
    "from sentence_transformers import SentenceTransformer\n",
    "\n",
    "# Initialize the embedding model (use a lightweight model for speed)\n",
    "model = SentenceTransformer(\"all-MiniLM-L6-v2\")\n",
    "\n"
   ]
  },
  {
   "cell_type": "code",
   "execution_count": 2,
   "metadata": {},
   "outputs": [
    {
     "name": "stdout",
     "output_type": "stream",
     "text": [
      "Added 50 documents to the FAISS index!\n"
     ]
    }
   ],
   "source": [
    "\n",
    "# Sample Diverse Documents\n",
    "documents = [\n",
    "    \"I love programming in Python.\",  \n",
    "    \"Machine learning is fascinating.\",  \n",
    "    \"I enjoy hiking in the mountains.\",  \n",
    "    \"Artificial intelligence is changing the world.\",  \n",
    "    \"I like to eat oranges, apples, and grapes.\",  \n",
    "    \"What is the capital of France?\",  \n",
    "    \"The Eiffel Tower is located in Paris.\",  \n",
    "    \"Do you enjoy listening to music?\",  \n",
    "    \"The sun rises in the east and sets in the west.\",  \n",
    "    \"I prefer tea over coffee.\",  \n",
    "    \"How does a neural network work?\",  \n",
    "    \"The Great Wall of China is visible from space.\",  \n",
    "    \"I find astronomy incredibly interesting.\",  \n",
    "    \"What are the benefits of exercising regularly?\",  \n",
    "    \"Reading books helps improve vocabulary and knowledge.\",  \n",
    "    \"I love watching sci-fi movies.\",  \n",
    "    \"The Pacific Ocean is the largest ocean on Earth.\",  \n",
    "    \"Why do people enjoy traveling?\",  \n",
    "    \"I think dogs are better pets than cats.\",  \n",
    "    \"The Mona Lisa was painted by Leonardo da Vinci.\",\n",
    "    \"Climate change is one of the biggest challenges facing humanity.\",\n",
    "    \"The speed of light is approximately 299,792 kilometers per second.\",\n",
    "    \"I enjoy playing chess in my free time.\",\n",
    "    \"The human brain contains around 86 billion neurons.\",\n",
    "    \"Mount Everest is the tallest mountain in the world.\",\n",
    "    \"I prefer rock music over classical music.\",\n",
    "    \"The Statue of Liberty was a gift from France to the United States.\",\n",
    "    \"The Pythagorean theorem is fundamental in geometry.\",\n",
    "    \"Venus is the hottest planet in our solar system.\",\n",
    "    \"I love coding in JavaScript for web development.\",\n",
    "    \"How do black holes form in space?\",\n",
    "    \"What are the main causes of inflation in an economy?\",\n",
    "    \"The Amazon rainforest is home to diverse wildlife.\",\n",
    "    \"The theory of relativity was developed by Albert Einstein.\",\n",
    "    \"The Sahara Desert is the largest hot desert in the world.\",\n",
    "    \"SpaceX is developing reusable rocket technology.\",\n",
    "    \"How does photosynthesis work in plants?\",\n",
    "    \"The Great Barrier Reef is the world's largest coral reef system.\",\n",
    "    \"I enjoy solving Sudoku puzzles to keep my mind sharp.\",\n",
    "    \"What is the difference between machine learning and deep learning?\",\n",
    "    \"Leonardo da Vinci was not only a painter but also an engineer and scientist.\",\n",
    "    \"The Wright brothers invented the first successful airplane.\",\n",
    "    \"I find quantum mechanics incredibly complex yet fascinating.\",\n",
    "    \"What are the benefits of learning a second language?\",\n",
    "    \"The internet has revolutionized the way we communicate and work.\",\n",
    "    \"Sharks have been around for more than 400 million years.\",\n",
    "    \"The human heart beats about 100,000 times a day.\",\n",
    "    \"Why do some people experience lucid dreaming?\",\n",
    "    \"Pluto was reclassified as a dwarf planet in 2006.\",\n",
    "    \"Cryptography plays a vital role in securing online transactions.\",\n",
    "]\n",
    "\n",
    "# Convert documents into embeddings\n",
    "document_embeddings = model.encode(documents)  # Shape (20, 384)\n",
    "\n",
    "# Create a FAISS index\n",
    "dimension = document_embeddings.shape[1]  # Embedding size (384)\n",
    "index = faiss.IndexFlatL2(dimension)  # L2 Distance for similarity search\n",
    "index.add(np.array(document_embeddings))  # Store embeddings in FAISS\n",
    "\n",
    "print(f\"Added {len(documents)} documents to the FAISS index!\")"
   ]
  },
  {
   "cell_type": "code",
   "execution_count": 6,
   "metadata": {},
   "outputs": [
    {
     "name": "stdout",
     "output_type": "stream",
     "text": [
      "\n",
      "Query: which animal is preferred?\n",
      "Most similar documents:\n",
      "1. I think dogs are better pets than cats. (Distance: 1.1566)\n",
      "2. The Amazon rainforest is home to diverse wildlife. (Distance: 1.2531)\n",
      "3. I prefer rock music over classical music. (Distance: 1.5937)\n",
      "4. I like to eat oranges, apples, and grapes. (Distance: 1.6012)\n",
      "5. What are the benefits of learning a second language? (Distance: 1.6038)\n"
     ]
    }
   ],
   "source": [
    "\n",
    "# Query the Collection\n",
    "query = \"which animal is preferred?\"\n",
    "query_embedding = model.encode([query])  # Convert query to embedding\n",
    "\n",
    "# Perform similarity search (find top 5 closest vectors)\n",
    "n_results = 5\n",
    "distances, indices = index.search(np.array(query_embedding), n_results)\n",
    "\n",
    "# Display Results\n",
    "print(\"\\nQuery:\", query)\n",
    "print(\"Most similar documents:\")\n",
    "for i, idx in enumerate(indices[0]):\n",
    "    print(f\"{i+1}. {documents[idx]} (Distance: {distances[0][i]:.4f})\")\n"
   ]
  },
  {
   "cell_type": "code",
   "execution_count": null,
   "metadata": {},
   "outputs": [],
   "source": []
  }
 ],
 "metadata": {
  "kernelspec": {
   "display_name": "Python 3",
   "language": "python",
   "name": "python3"
  },
  "language_info": {
   "codemirror_mode": {
    "name": "ipython",
    "version": 3
   },
   "file_extension": ".py",
   "mimetype": "text/x-python",
   "name": "python",
   "nbconvert_exporter": "python",
   "pygments_lexer": "ipython3",
   "version": "3.10.9"
  }
 },
 "nbformat": 4,
 "nbformat_minor": 2
}
